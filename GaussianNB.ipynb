{
  "nbformat": 4,
  "nbformat_minor": 0,
  "metadata": {
    "colab": {
      "name": "GaussianNB.ipynb",
      "provenance": [],
      "toc_visible": true,
      "authorship_tag": "ABX9TyM4Zg6bcSgRzKIy5EyloIXU",
      "include_colab_link": true
    },
    "kernelspec": {
      "name": "python3",
      "display_name": "Python 3"
    }
  },
  "cells": [
    {
      "cell_type": "markdown",
      "metadata": {
        "id": "view-in-github",
        "colab_type": "text"
      },
      "source": [
        "<a href=\"https://colab.research.google.com/github/amoghsalaskar/mltraining/blob/master/GaussianNB.ipynb\" target=\"_parent\"><img src=\"https://colab.research.google.com/assets/colab-badge.svg\" alt=\"Open In Colab\"/></a>"
      ]
    },
    {
      "cell_type": "code",
      "metadata": {
        "id": "GdDGtn0yCFPI",
        "colab_type": "code",
        "colab": {}
      },
      "source": [
        "import numpy as np\n",
        "import pandas as pd"
      ],
      "execution_count": 3,
      "outputs": []
    },
    {
      "cell_type": "code",
      "metadata": {
        "id": "R5tlw46kDA4f",
        "colab_type": "code",
        "colab": {
          "base_uri": "https://localhost:8080/",
          "height": 376
        },
        "outputId": "be22e8c0-8801-4f0e-b392-dc5befc6648f"
      },
      "source": [
        "#dataset reading\n",
        "data = pd.read_csv('car.csv')\n",
        "print(data.shape)\n",
        "data.head(10)"
      ],
      "execution_count": 6,
      "outputs": [
        {
          "output_type": "stream",
          "text": [
            "(10, 5)\n"
          ],
          "name": "stdout"
        },
        {
          "output_type": "execute_result",
          "data": {
            "text/html": [
              "<div>\n",
              "<style scoped>\n",
              "    .dataframe tbody tr th:only-of-type {\n",
              "        vertical-align: middle;\n",
              "    }\n",
              "\n",
              "    .dataframe tbody tr th {\n",
              "        vertical-align: top;\n",
              "    }\n",
              "\n",
              "    .dataframe thead th {\n",
              "        text-align: right;\n",
              "    }\n",
              "</style>\n",
              "<table border=\"1\" class=\"dataframe\">\n",
              "  <thead>\n",
              "    <tr style=\"text-align: right;\">\n",
              "      <th></th>\n",
              "      <th>Sr. No.</th>\n",
              "      <th>color</th>\n",
              "      <th>type</th>\n",
              "      <th>origin</th>\n",
              "      <th>stolen</th>\n",
              "    </tr>\n",
              "  </thead>\n",
              "  <tbody>\n",
              "    <tr>\n",
              "      <th>0</th>\n",
              "      <td>1</td>\n",
              "      <td>red</td>\n",
              "      <td>sports</td>\n",
              "      <td>domestic</td>\n",
              "      <td>yes</td>\n",
              "    </tr>\n",
              "    <tr>\n",
              "      <th>1</th>\n",
              "      <td>2</td>\n",
              "      <td>red</td>\n",
              "      <td>sports</td>\n",
              "      <td>domestic</td>\n",
              "      <td>no</td>\n",
              "    </tr>\n",
              "    <tr>\n",
              "      <th>2</th>\n",
              "      <td>3</td>\n",
              "      <td>red</td>\n",
              "      <td>sports</td>\n",
              "      <td>domestic</td>\n",
              "      <td>yes</td>\n",
              "    </tr>\n",
              "    <tr>\n",
              "      <th>3</th>\n",
              "      <td>4</td>\n",
              "      <td>yellow</td>\n",
              "      <td>sports</td>\n",
              "      <td>domestic</td>\n",
              "      <td>no</td>\n",
              "    </tr>\n",
              "    <tr>\n",
              "      <th>4</th>\n",
              "      <td>5</td>\n",
              "      <td>yellow</td>\n",
              "      <td>sports</td>\n",
              "      <td>imported</td>\n",
              "      <td>yes</td>\n",
              "    </tr>\n",
              "    <tr>\n",
              "      <th>5</th>\n",
              "      <td>6</td>\n",
              "      <td>yellow</td>\n",
              "      <td>SUV</td>\n",
              "      <td>imported</td>\n",
              "      <td>no</td>\n",
              "    </tr>\n",
              "    <tr>\n",
              "      <th>6</th>\n",
              "      <td>7</td>\n",
              "      <td>yellow</td>\n",
              "      <td>SUV</td>\n",
              "      <td>imported</td>\n",
              "      <td>yes</td>\n",
              "    </tr>\n",
              "    <tr>\n",
              "      <th>7</th>\n",
              "      <td>8</td>\n",
              "      <td>yellow</td>\n",
              "      <td>SUV</td>\n",
              "      <td>domestic</td>\n",
              "      <td>no</td>\n",
              "    </tr>\n",
              "    <tr>\n",
              "      <th>8</th>\n",
              "      <td>9</td>\n",
              "      <td>red</td>\n",
              "      <td>SUV</td>\n",
              "      <td>imported</td>\n",
              "      <td>no</td>\n",
              "    </tr>\n",
              "    <tr>\n",
              "      <th>9</th>\n",
              "      <td>10</td>\n",
              "      <td>red</td>\n",
              "      <td>sports</td>\n",
              "      <td>imported</td>\n",
              "      <td>yes</td>\n",
              "    </tr>\n",
              "  </tbody>\n",
              "</table>\n",
              "</div>"
            ],
            "text/plain": [
              "   Sr. No.   color    type    origin stolen \n",
              "0        1     red  sports  domestic     yes\n",
              "1        2     red  sports  domestic      no\n",
              "2        3     red  sports  domestic     yes\n",
              "3        4  yellow  sports  domestic      no\n",
              "4        5  yellow  sports  imported     yes\n",
              "5        6  yellow     SUV  imported      no\n",
              "6        7  yellow     SUV  imported     yes\n",
              "7        8  yellow     SUV  domestic      no\n",
              "8        9     red     SUV  imported      no\n",
              "9       10     red  sports  imported     yes"
            ]
          },
          "metadata": {
            "tags": []
          },
          "execution_count": 6
        }
      ]
    },
    {
      "cell_type": "code",
      "metadata": {
        "id": "0qvSeJKsENhC",
        "colab_type": "code",
        "colab": {}
      },
      "source": [
        "# Assigning features and label variables"
      ],
      "execution_count": null,
      "outputs": []
    },
    {
      "cell_type": "code",
      "metadata": {
        "id": "jomkb4rsEXl-",
        "colab_type": "code",
        "colab": {}
      },
      "source": [
        "# Import LabelEncoder\n",
        "from sklearn import preprocessing"
      ],
      "execution_count": 7,
      "outputs": []
    },
    {
      "cell_type": "code",
      "metadata": {
        "id": "P3isTEDAEsql",
        "colab_type": "code",
        "colab": {}
      },
      "source": [
        "#creating labelEncoder\n",
        "le = preprocessing.LabelEncoder()"
      ],
      "execution_count": 8,
      "outputs": []
    },
    {
      "cell_type": "code",
      "metadata": {
        "id": "F6P2NvJgE-1Y",
        "colab_type": "code",
        "colab": {}
      },
      "source": [
        "# Assigning features and label variables\n",
        "color = ['red', 'red', 'red', 'yellow', 'yellow', 'yellow', 'yellow', 'yellow', 'red', 'red']"
      ],
      "execution_count": 10,
      "outputs": []
    },
    {
      "cell_type": "code",
      "metadata": {
        "id": "fhVC9zsHFOaX",
        "colab_type": "code",
        "colab": {}
      },
      "source": [
        "#Converting string labels into numbers\n",
        "color_encoded = le.fit_transform(color)"
      ],
      "execution_count": 11,
      "outputs": []
    },
    {
      "cell_type": "code",
      "metadata": {
        "id": "iBCdzouDFdhv",
        "colab_type": "code",
        "colab": {
          "base_uri": "https://localhost:8080/",
          "height": 34
        },
        "outputId": "855d1d48-9834-4b94-9b45-9ee17c91e714"
      },
      "source": [
        "print(color_encoded)"
      ],
      "execution_count": 12,
      "outputs": [
        {
          "output_type": "stream",
          "text": [
            "[0 0 0 1 1 1 1 1 0 0]\n"
          ],
          "name": "stdout"
        }
      ]
    },
    {
      "cell_type": "code",
      "metadata": {
        "id": "bY2hY2fEF95D",
        "colab_type": "code",
        "colab": {}
      },
      "source": [
        "type = ['sports', 'sports', 'sports', 'sports', 'sports', 'SUV', 'SUV', 'SUV', 'SUV', 'sports']\n",
        "origin = ['domestic', 'domestic', 'domestic', 'domestic', 'imported', 'imported', 'imported', 'domestic', 'imported', 'imported']\n",
        "stolen = ['yes', 'no', 'yes', 'no', 'yes', 'no', 'yes', 'no', 'no', 'yes']"
      ],
      "execution_count": 13,
      "outputs": []
    },
    {
      "cell_type": "code",
      "metadata": {
        "id": "fW1CVDE5GG8Y",
        "colab_type": "code",
        "colab": {}
      },
      "source": [
        "type_encoded = le.fit_transform(type)"
      ],
      "execution_count": 14,
      "outputs": []
    },
    {
      "cell_type": "code",
      "metadata": {
        "id": "8CF-4aL9GG7M",
        "colab_type": "code",
        "colab": {
          "base_uri": "https://localhost:8080/",
          "height": 34
        },
        "outputId": "643fd37e-be9a-4f07-e8cf-f66342bc7110"
      },
      "source": [
        "print(type_encoded)"
      ],
      "execution_count": 15,
      "outputs": [
        {
          "output_type": "stream",
          "text": [
            "[1 1 1 1 1 0 0 0 0 1]\n"
          ],
          "name": "stdout"
        }
      ]
    },
    {
      "cell_type": "code",
      "metadata": {
        "id": "0V_9DkaZGcDz",
        "colab_type": "code",
        "colab": {}
      },
      "source": [
        "origin_encoded = le.fit_transform(origin)"
      ],
      "execution_count": 16,
      "outputs": []
    },
    {
      "cell_type": "code",
      "metadata": {
        "id": "otoVeg2BGjdg",
        "colab_type": "code",
        "colab": {}
      },
      "source": [
        "stolen_encoded = le.fit_transform(stolen)"
      ],
      "execution_count": 17,
      "outputs": []
    },
    {
      "cell_type": "code",
      "metadata": {
        "id": "I1Qvq0nMHI2_",
        "colab_type": "code",
        "colab": {
          "base_uri": "https://localhost:8080/",
          "height": 34
        },
        "outputId": "60f36dec-6c3e-4d36-e48c-5448b056852a"
      },
      "source": [
        "print(origin_encoded)"
      ],
      "execution_count": 18,
      "outputs": [
        {
          "output_type": "stream",
          "text": [
            "[0 0 0 0 1 1 1 0 1 1]\n"
          ],
          "name": "stdout"
        }
      ]
    },
    {
      "cell_type": "code",
      "metadata": {
        "id": "rWwYm63eHM7a",
        "colab_type": "code",
        "colab": {
          "base_uri": "https://localhost:8080/",
          "height": 34
        },
        "outputId": "3d0f6a19-ad73-4447-cadc-2777bbcc9f71"
      },
      "source": [
        "print(stolen_encoded)"
      ],
      "execution_count": 19,
      "outputs": [
        {
          "output_type": "stream",
          "text": [
            "[1 0 1 0 1 0 1 0 0 1]\n"
          ],
          "name": "stdout"
        }
      ]
    },
    {
      "cell_type": "code",
      "metadata": {
        "id": "UQ1lLilbHg1T",
        "colab_type": "code",
        "colab": {
          "base_uri": "https://localhost:8080/",
          "height": 51
        },
        "outputId": "9e58f955-da1c-463c-b7e7-052c94570e0e"
      },
      "source": [
        "color_encoded=le.fit_transform(color)\n",
        "label=le.fit_transform(stolen)\n",
        "print(\"Color:\",color_encoded)\n",
        "print(\"Stolen:\",label)"
      ],
      "execution_count": 20,
      "outputs": [
        {
          "output_type": "stream",
          "text": [
            "Color: [0 0 0 1 1 1 1 1 0 0]\n",
            "Stolen: [1 0 1 0 1 0 1 0 0 1]\n"
          ],
          "name": "stdout"
        }
      ]
    },
    {
      "cell_type": "code",
      "metadata": {
        "id": "a5y99_aQIGxD",
        "colab_type": "code",
        "colab": {
          "base_uri": "https://localhost:8080/",
          "height": 51
        },
        "outputId": "14b044fe-81eb-46f8-fa1e-443aff05f69e"
      },
      "source": [
        "type_encoded=le.fit_transform(type)\n",
        "label=le.fit_transform(stolen)\n",
        "print(\"Type:\",type_encoded)\n",
        "print(\"Stolen:\",label)"
      ],
      "execution_count": 21,
      "outputs": [
        {
          "output_type": "stream",
          "text": [
            "Type: [1 1 1 1 1 0 0 0 0 1]\n",
            "Stolen: [1 0 1 0 1 0 1 0 0 1]\n"
          ],
          "name": "stdout"
        }
      ]
    },
    {
      "cell_type": "code",
      "metadata": {
        "id": "FZvL4EwIISvH",
        "colab_type": "code",
        "colab": {
          "base_uri": "https://localhost:8080/",
          "height": 51
        },
        "outputId": "a1141364-c19b-4386-c779-cd9303a9d7b6"
      },
      "source": [
        "origin_encoded=le.fit_transform(origin)\n",
        "label=le.fit_transform(stolen)\n",
        "print(\"Origin:\",origin_encoded)\n",
        "print(\"Stolen:\",label)"
      ],
      "execution_count": 22,
      "outputs": [
        {
          "output_type": "stream",
          "text": [
            "Origin: [0 0 0 0 1 1 1 0 1 1]\n",
            "Stolen: [1 0 1 0 1 0 1 0 0 1]\n"
          ],
          "name": "stdout"
        }
      ]
    },
    {
      "cell_type": "code",
      "metadata": {
        "id": "GCG3olRhIos1",
        "colab_type": "code",
        "colab": {}
      },
      "source": [
        "#Combinig color, type, and origin into single list of tuples\n",
        "def merge(color_encoded, type_encoded, origin_encoded):\n",
        "  merged_list=tuple(zip(color_encoded, type_encoded, origin_encoded))\n",
        "  return merged_list"
      ],
      "execution_count": 24,
      "outputs": []
    },
    {
      "cell_type": "code",
      "metadata": {
        "id": "Kr6DSiBeJU6A",
        "colab_type": "code",
        "colab": {
          "base_uri": "https://localhost:8080/",
          "height": 34
        },
        "outputId": "5dd19e97-eade-4cb3-dbe0-eecefc2e1a8f"
      },
      "source": [
        "print(merge(color_encoded, type_encoded, origin_encoded))"
      ],
      "execution_count": 25,
      "outputs": [
        {
          "output_type": "stream",
          "text": [
            "((0, 1, 0), (0, 1, 0), (0, 1, 0), (1, 1, 0), (1, 1, 1), (1, 0, 1), (1, 0, 1), (1, 0, 0), (0, 0, 1), (0, 1, 1))\n"
          ],
          "name": "stdout"
        }
      ]
    },
    {
      "cell_type": "code",
      "metadata": {
        "id": "wovzIfkvJdi5",
        "colab_type": "code",
        "colab": {}
      },
      "source": [
        "#Import Gaussian Naive Bayes model\n",
        "from sklearn.naive_bayes import GaussianNB"
      ],
      "execution_count": 26,
      "outputs": []
    },
    {
      "cell_type": "code",
      "metadata": {
        "id": "66uO565yJrTW",
        "colab_type": "code",
        "colab": {}
      },
      "source": [
        "#Create a Gaussian Classifier\n",
        "model = GaussianNB()"
      ],
      "execution_count": 27,
      "outputs": []
    },
    {
      "cell_type": "code",
      "metadata": {
        "id": "RcoX3ZjkJ0ox",
        "colab_type": "code",
        "colab": {
          "base_uri": "https://localhost:8080/",
          "height": 34
        },
        "outputId": "efad5347-80e0-49f1-e073-20eed684f378"
      },
      "source": [
        "#Train model using the training sets\n",
        "model.fit(merge(color_encoded, type_encoded, origin_encoded), label)"
      ],
      "execution_count": 28,
      "outputs": [
        {
          "output_type": "execute_result",
          "data": {
            "text/plain": [
              "GaussianNB(priors=None, var_smoothing=1e-09)"
            ]
          },
          "metadata": {
            "tags": []
          },
          "execution_count": 28
        }
      ]
    },
    {
      "cell_type": "code",
      "metadata": {
        "id": "ClVY787qKg4k",
        "colab_type": "code",
        "colab": {
          "base_uri": "https://localhost:8080/",
          "height": 34
        },
        "outputId": "b9a4d0d8-19a6-449f-ad7f-0c63e8fbe4f3"
      },
      "source": [
        "#Predict Output\n",
        "predicted= model.predict([[0,0,1]])\n",
        "print(\"Preddicted Value:\", predicted)"
      ],
      "execution_count": 29,
      "outputs": [
        {
          "output_type": "stream",
          "text": [
            "Preddicted Value: [0]\n"
          ],
          "name": "stdout"
        }
      ]
    }
  ]
}